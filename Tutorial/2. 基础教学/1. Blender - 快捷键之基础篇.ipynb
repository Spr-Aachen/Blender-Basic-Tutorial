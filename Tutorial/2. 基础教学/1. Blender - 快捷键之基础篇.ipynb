{
 "cells": [
  {
   "attachments": {},
   "cell_type": "markdown",
   "metadata": {},
   "source": [
    "<div align = 'center'>\n",
    "\n",
    "# 萌新的Blender入门学习笔记——快捷键之基础篇\n",
    "\n",
    "</div>"
   ]
  },
  {
   "attachments": {},
   "cell_type": "markdown",
   "metadata": {},
   "source": [
    "<br>\n",
    "<div align = 'center'>\n",
    "\n",
    "## Part1. 界面视图\n",
    "\n",
    "</div>"
   ]
  },
  {
   "attachments": {},
   "cell_type": "markdown",
   "metadata": {},
   "source": [
    "### 视图的切换<br>Switch Editor"
   ]
  },
  {
   "attachments": {},
   "cell_type": "markdown",
   "metadata": {},
   "source": [
    "**操作：**\n",
    "<br>按下`[Shift + F1-10]`以切换至对应视图"
   ]
  },
  {
   "attachments": {},
   "cell_type": "markdown",
   "metadata": {},
   "source": [
    "### 窗口的拆分与合并<br>Split/Join Windows"
   ]
  },
  {
   "cell_type": "markdown",
   "metadata": {},
   "source": [
    "#### 方法一"
   ]
  },
  {
   "attachments": {},
   "cell_type": "markdown",
   "metadata": {},
   "source": [
    "**操作：**\n",
    "<br>将光标移至窗口之间的分界线上会变成双箭头，单击`[RMB]`出现以下两个选项\n",
    "-  Split Area 拆分区域 ：选择后，光标处出现预览线，单击`[LMB]`即可拆分出新区域\n",
    "-  Join Area  合并区域 ：选择后，光标处变为小箭头，单击`[LMB]`即可合并掉该区域"
   ]
  },
  {
   "attachments": {},
   "cell_type": "markdown",
   "metadata": {},
   "source": [
    "**Tip：**\n",
    "<br>拆分方式分为  Vertical Split 垂直拆分 与 Horizonal Split 水平拆分 两种，根据需要选择即可"
   ]
  },
  {
   "attachments": {},
   "cell_type": "markdown",
   "metadata": {},
   "source": [
    "#### 方法二"
   ]
  },
  {
   "attachments": {},
   "cell_type": "markdown",
   "metadata": {},
   "source": [
    "**操作：**\n",
    "<br>将光标移至窗口角落的分界线上会变成小十字，按住`[LMB]`并以以下两种形式拖拽\n",
    "- 拆分：在窗口内部区域拖拽\n",
    "- 合并：沿着窗口边界线拖拽"
   ]
  },
  {
   "attachments": {},
   "cell_type": "markdown",
   "metadata": {},
   "source": [
    "### 窗口的分离（新建）<br>Separate Windows"
   ]
  },
  {
   "attachments": {},
   "cell_type": "markdown",
   "metadata": {},
   "source": [
    "**操作：**\n",
    "<br>将光标移至窗口角落的分界线上会变成小十字，按住`[Shift]`和`[LMB]`并向目标窗口内拖拽即可生成一个新的该窗口"
   ]
  },
  {
   "attachments": {},
   "cell_type": "markdown",
   "metadata": {},
   "source": [
    "### 编辑器全屏模式<br>Editor Fullscreen"
   ]
  },
  {
   "attachments": {},
   "cell_type": "markdown",
   "metadata": {},
   "source": [
    "**操作：**\n",
    "<br>将光标移至目标窗口，按住`[Ctrl]`再按下`[Space]`即可进入/退出该窗口的全屏模式"
   ]
  },
  {
   "attachments": {},
   "cell_type": "markdown",
   "metadata": {},
   "source": [
    "### 工具栏、侧边栏、变形器、叠加层的显示/隐藏<br>Display/Hide Toolbar, Sidebar, Gizmo, Overlays"
   ]
  },
  {
   "cell_type": "markdown",
   "metadata": {},
   "source": [
    "#### 工具栏"
   ]
  },
  {
   "attachments": {},
   "cell_type": "markdown",
   "metadata": {},
   "source": [
    "**操作：**\n",
    "<br>按下`[T]`"
   ]
  },
  {
   "cell_type": "markdown",
   "metadata": {},
   "source": [
    "#### 侧边栏"
   ]
  },
  {
   "attachments": {},
   "cell_type": "markdown",
   "metadata": {},
   "source": [
    "**操作：**\n",
    "<br>按下`[N]`"
   ]
  },
  {
   "cell_type": "markdown",
   "metadata": {},
   "source": [
    "#### 变形器"
   ]
  },
  {
   "attachments": {},
   "cell_type": "markdown",
   "metadata": {},
   "source": [
    "**操作：**\n",
    "<br>按住`[Ctrl]`再按下`[~]`"
   ]
  },
  {
   "cell_type": "markdown",
   "metadata": {},
   "source": [
    "#### 叠加层"
   ]
  },
  {
   "attachments": {},
   "cell_type": "markdown",
   "metadata": {},
   "source": [
    "**操作：**\n",
    "<br>按住`[Shift + Alt]`再按下`[Z]`"
   ]
  },
  {
   "cell_type": "markdown",
   "metadata": {},
   "source": [
    "### 视图着色模式的切换<br>Switch Viewport Shading"
   ]
  },
  {
   "attachments": {},
   "cell_type": "markdown",
   "metadata": {},
   "source": [
    "**操作：**\n",
    "<br>按住/按下`[Z]`会呼出带有着色选项的轮盘，移动光标可点亮选项，松开`[Z]`/按下`[LMB]`以使高亮选项生效（期间按下`[RMB]`可退出轮盘）"
   ]
  },
  {
   "attachments": {},
   "cell_type": "markdown",
   "metadata": {},
   "source": [
    "<br>\n",
    "<div align = 'center'>\n",
    "\n",
    "## Part2. 界面面板\n",
    "\n",
    "<div>"
   ]
  },
  {
   "cell_type": "markdown",
   "metadata": {
    "vscode": {
     "languageId": "plaintext"
    }
   },
   "source": [
    "### 移动标题栏<br>Shifty Headers"
   ]
  },
  {
   "attachments": {},
   "cell_type": "markdown",
   "metadata": {},
   "source": [
    "**操作：**\n",
    "<br>将光标移至标题栏处并滚动`[MMB]`可以拖出标题栏中被隐藏的按钮"
   ]
  },
  {
   "attachments": {},
   "cell_type": "markdown",
   "metadata": {},
   "source": [
    "### 滚动显示菜单内容<br>Scroll Through Menus"
   ]
  },
  {
   "attachments": {},
   "cell_type": "markdown",
   "metadata": {},
   "source": [
    "**操作：**\n",
    "<br>将光标停在选项卡/下拉菜单区域，然后按住`[Ctrl]`并滚动`[MMB]`，可以看到选项卡/下拉菜单的内容逐一显示"
   ]
  },
  {
   "attachments": {},
   "cell_type": "markdown",
   "metadata": {},
   "source": [
    "**Tip:**\n",
    "<br>该方法亦可以对面板的数值类内容进行更改"
   ]
  },
  {
   "attachments": {},
   "cell_type": "markdown",
   "metadata": {},
   "source": [
    "### 快速折叠/展开面板<br>Collapse/Open Mutual Panels"
   ]
  },
  {
   "attachments": {},
   "cell_type": "markdown",
   "metadata": {},
   "source": [
    "**操作：**\n",
    "<br>将光标停在面板名称附近，按住`[LMB]`会闭合/打开当前面板。保持按住状态并移动光标到其他面板上，则这些面板也会依次打开/关闭"
   ]
  },
  {
   "cell_type": "markdown",
   "metadata": {},
   "source": [
    "### 复制粘贴参数值<br>Copy/Paste Values"
   ]
  },
  {
   "attachments": {},
   "cell_type": "markdown",
   "metadata": {},
   "source": [
    "**操作：**\n",
    "<br>将光标移动到面板的某个字段/物体参数上按下`[Ctrl + C]`，再到目标字段/物体上按下`[Ctrl + V]`，可以看到参数值被复制到字段/应用到物体"
   ]
  },
  {
   "attachments": {},
   "cell_type": "markdown",
   "metadata": {},
   "source": [
    "### 快速重命名物体<br>Rename Objects"
   ]
  },
  {
   "attachments": {},
   "cell_type": "markdown",
   "metadata": {},
   "source": [
    "**操作：**\n",
    "<br>在3D视图中选择目标物体并按下`[F2]`，就能在名为“Object Name 物体名字”的弹窗中输入新名字，之后按下`[Enter]`即可"
   ]
  },
  {
   "cell_type": "markdown",
   "metadata": {},
   "source": [
    "### 搜索栏<br>Search Dialog"
   ]
  },
  {
   "attachments": {},
   "cell_type": "markdown",
   "metadata": {},
   "source": [
    "**操作：**\n",
    "<br>按下`[F3]`会出现一个搜索栏，在其中输入指令或关键词会自动检索，单击检索结果即可（对选中的物体）执行"
   ]
  },
  {
   "attachments": {},
   "cell_type": "markdown",
   "metadata": {},
   "source": [
    "**Tip:**\n",
    "- 检索结果的末端会显示对应的快捷方式\n",
    "- 本次执行的检索记录会被保留到下次呼出搜索栏"
   ]
  }
 ],
 "metadata": {
  "kernelspec": {
   "display_name": "Python 3",
   "language": "python",
   "name": "python3"
  },
  "language_info": {
   "name": "python",
   "version": "3.7.9 (tags/v3.7.9:13c94747c7, Aug 17 2020, 18:58:18) [MSC v.1900 64 bit (AMD64)]"
  },
  "orig_nbformat": 4,
  "vscode": {
   "interpreter": {
    "hash": "83d7661a84453ad3be1a4e16618ae38a5d7b24bd6946f8a0c99b445e0503789d"
   }
  }
 },
 "nbformat": 4,
 "nbformat_minor": 2
}
