{
 "cells": [
  {
   "attachments": {},
   "cell_type": "markdown",
   "metadata": {},
   "source": [
    "<div align = 'center'>\n",
    "\n",
    "# 萌新的Blender入门学习笔记——快捷键之建模篇\n",
    "\n",
    "</div>"
   ]
  },
  {
   "attachments": {},
   "cell_type": "markdown",
   "metadata": {},
   "source": [
    "<br>\n",
    "<div align = 'center'>\n",
    "\n",
    "## Intro\n",
    "\n",
    "</div>"
   ]
  },
  {
   "attachments": {},
   "cell_type": "markdown",
   "metadata": {},
   "source": [
    "受到[6分钟搞定Blender建模](https://www.bilibili.com/video/BV1Z34y147ja)视频的启发，本篇将以流程的方式进行介绍\n",
    ">\n",
    "**Tip：**\n",
    "<br>一步步跟着做的效果更佳哦~"
   ]
  },
  {
   "attachments": {},
   "cell_type": "markdown",
   "metadata": {
    "vscode": {
     "languageId": "plaintext"
    }
   },
   "source": [
    "<br>\n",
    "<div align = 'center'>\n",
    "\n",
    "## Step0. 设置按键屏显\n",
    "<br>![](https://img-blog.csdnimg.cn/img_convert/3197b4a9dbbacfc78af5fa2e7da3ce9b.jpeg)\n",
    "<br>安装“Screencast-Keys”插件之后即可在界面面板中自定义按键屏显\n",
    "\n",
    "</div>"
   ]
  },
  {
   "attachments": {},
   "cell_type": "markdown",
   "metadata": {},
   "source": [
    "### 安装引导<br>Installation"
   ]
  },
  {
   "attachments": {},
   "cell_type": "markdown",
   "metadata": {
    "vscode": {
     "languageId": "plaintext"
    }
   },
   "source": [
    "**Screencast-Keys插件官网：**\n",
    "<br>[GitHub - nutti/Screencast-Keys: Blender Add-on: Screencast Keys](https://github.com/nutti/Screencast-Keys)"
   ]
  },
  {
   "attachments": {},
   "cell_type": "markdown",
   "metadata": {},
   "source": [
    "**具体安装教学：**\n",
    "<br>[Blender - 2.8x - Screencast Keys (v3.0) - 屏幕显示按键信息插件介绍以及安装](https://blog.csdn.net/linjf520/article/details/108108603)"
   ]
  },
  {
   "attachments": {},
   "cell_type": "markdown",
   "metadata": {},
   "source": [
    "<br>\n",
    "<div align = 'center'>\n",
    "\n",
    "## Step1. 优化模型结构显示\n",
    "<br>![](https://img-blog.csdnimg.cn/img_convert/c83145e4ca589534738c3d25420ffdcc.jpeg)\n",
    "<br>此处界面的呼出按钮名为“Shading着色”，位于布局界面右上角（就是那个下箭头）\n",
    "\n",
    "</div>"
   ]
  },
  {
   "attachments": {},
   "cell_type": "markdown",
   "metadata": {},
   "source": [
    "**操作：**\n",
    "1. Color 颜色类型 : 默认为 Material 材质，改选为 Random 随机\n",
    "2. Background 背景绘制方式 : 默认为 Theme 主题 颜色，改选为 World 世界颜色\n",
    "3. Options 选项 : 默认禁用 Cavity 遮罩，打勾该选项以显示遮罩。之后将右侧 Type 着色显示方法 的下拉选项框中默认的 Screen 滤色 改选为 Both 同时使用\n"
   ]
  },
  {
   "attachments": {},
   "cell_type": "markdown",
   "metadata": {},
   "source": [
    "<br>\n",
    "<div align = 'center'>\n",
    "\n",
    "## Step2. 删除所选内容\n",
    "\n",
    "</div>"
   ]
  },
  {
   "attachments": {},
   "cell_type": "markdown",
   "metadata": {},
   "source": [
    "**操作：**\n",
    "<br>按下`[Del]`/`[X]`"
   ]
  },
  {
   "attachments": {},
   "cell_type": "markdown",
   "metadata": {
    "vscode": {
     "languageId": "plaintext"
    }
   },
   "source": [
    "<br>\n",
    "<div align = 'center'>\n",
    "\n",
    "## Step3. 新建内容\n",
    "\n",
    "</div>"
   ]
  },
  {
   "attachments": {},
   "cell_type": "markdown",
   "metadata": {},
   "source": [
    "**操作：**\n",
    "<br>按住`[Shift]`再按下`[A]`新建内容"
   ]
  },
  {
   "attachments": {},
   "cell_type": "markdown",
   "metadata": {},
   "source": [
    "**Tip：**\n",
    "<br>立方体可以在“Mesh 网格 -> Cube 立方体”中找到"
   ]
  },
  {
   "attachments": {},
   "cell_type": "markdown",
   "metadata": {},
   "source": [
    "<br>\n",
    "<div align = 'center'>\n",
    "\n",
    "## Step4. 切换视图\n",
    "<br>![](https://img-blog.csdnimg.cn/img_convert/171bf45d7e8bc0960987b43fd7a0c7a7.jpeg)\n",
    "<br>这里的切换形式不同于小键盘数字键，是通过按住`[Alt + MMB]`并拖拽`[鼠标]`来实现的\n",
    "\n",
    "</div>"
   ]
  },
  {
   "attachments": {},
   "cell_type": "markdown",
   "metadata": {},
   "source": [
    "### 基本的视图变换操作<br>"
   ]
  },
  {
   "attachments": {},
   "cell_type": "markdown",
   "metadata": {},
   "source": [
    "**操作：**\n",
    "- 旋转视角：按住`[MMB]`并拖拽`[鼠标]`，按住`[Alt]`可以吸附到最近的视图上\n",
    "- 平移视角：按住`[Shift]`再按住`[MMB]`并拖拽`[鼠标]`\n",
    "- 缩放视角：滚动`[MMB]`/按住`[Ctrl]`再按住`[MMB]`并拖拽`[鼠标]`"
   ]
  },
  {
   "attachments": {},
   "cell_type": "markdown",
   "metadata": {},
   "source": [
    "### 用小键盘进行视图切换<br>"
   ]
  },
  {
   "attachments": {},
   "cell_type": "markdown",
   "metadata": {},
   "source": [
    "\n",
    "**操作：**\n",
    "- 俯视图：按下`[Numpad 7]`（底视图：按住`[Ctrl]`再按下`[Numpad 7]`）\n",
    "- 正视图：按下`[Numpad 1]`（后视图：按住`[Ctrl]`再按下`[Numpad 1]`）\n",
    "- 右视图：按下`[Numpad 3]`（左视图：按住`[Ctrl]`再按下`[Numpad 3]`）\n",
    "- 正交/透视图：按下`[Numpad 5]`\n",
    "- 摄像机视角：按下`[Numpad 0]`\n",
    "- 对焦视图：按下`[Numpad .]`\n"
   ]
  },
  {
   "attachments": {},
   "cell_type": "markdown",
   "metadata": {},
   "source": [
    "### 用小键盘进行视图移动<br>"
   ]
  },
  {
   "attachments": {},
   "cell_type": "markdown",
   "metadata": {},
   "source": [
    "**操作：**\n",
    "- 绕目标上转：按下`[Numpad 8]`（自身上移：按住`[Ctrl]`再按下`[Numpad 8]`）\n",
    "- 绕目标下转：按下`[Numpad 2]`（自身下移：按住`[Ctrl]`再按下`[Numpad 2]`）\n",
    "- 绕目标左转：按下`[Numpad 4]`（自身左移：按住`[Ctrl]`再按下`[Numpad 4]`）\n",
    "- 绕目标右转：按下`[Numpad 6]`（自身右移：按住`[Ctrl]`再按下`[Numpad 6]`）\n",
    "- 绕目标左转180°：按下`[Numpad 9]`"
   ]
  },
  {
   "attachments": {},
   "cell_type": "markdown",
   "metadata": {},
   "source": [
    "### 使用自由视角模式（按住`[Shift]`再按下`[~]`激活）<br>"
   ]
  },
  {
   "attachments": {},
   "cell_type": "markdown",
   "metadata": {},
   "source": [
    "**操作：**\n",
    "- 上升：`[Q]`\n",
    "- 下降：`[E]`\n",
    "- 前移：`[W]`\n",
    "- 后移：`[S]`\n",
    "- 左移：`[A]`\n",
    "- 右移：`[D]`\n",
    "- 加速：`[Shift]`\n",
    "- 调节速度：滚动`[MMB]`\n",
    "- 选定视角：按下`[LMB]`/`[Enter]` \n",
    "- 取消视角：按下`[RMB]`"
   ]
  },
  {
   "attachments": {},
   "cell_type": "markdown",
   "metadata": {},
   "source": [
    "### 移动摄像机至当前视角位置<br>"
   ]
  },
  {
   "attachments": {},
   "cell_type": "markdown",
   "metadata": {},
   "source": [
    "**操作：**\n",
    "<br>按下`[0]`切换至摄像机视角，`[Shift + ~]`进入自由视角模式，移动到目标位置后按下`[LMB]`/`[Enter]`即可完成移动"
   ]
  },
  {
   "attachments": {},
   "cell_type": "markdown",
   "metadata": {},
   "source": [
    "<br>\n",
    "<div align = 'center'>\n",
    "\n",
    "## Step5. 变换\n",
    "<br>![](https://img-blog.csdnimg.cn/img_convert/5908082e2af8bf3cc0d5c69fba001e6d.jpeg)\n",
    "<br>这里能够对选中的物体直接移动是因为当前选择了平移工具\n",
    "\n",
    "</div>"
   ]
  },
  {
   "attachments": {},
   "cell_type": "markdown",
   "metadata": {},
   "source": [
    "### 变换轴心点<br>Transform Pivot Point"
   ]
  },
  {
   "attachments": {},
   "cell_type": "markdown",
   "metadata": {},
   "source": [
    "**操作：**\n",
    "<br>按住/按下`[>]`会呼出带有轴心点设定选项的轮盘，移动`[鼠标]`可点亮选项，松开`[>]`/按下`[LMB]`以使高亮选项生效"
   ]
  },
  {
   "attachments": {},
   "cell_type": "markdown",
   "metadata": {},
   "source": [
    "**Tip：**\n",
    "<br>期间按下`[RMB]`可退出轮盘"
   ]
  },
  {
   "attachments": {},
   "cell_type": "markdown",
   "metadata": {},
   "source": [
    "### 变换坐标系<br>Transform Orientations"
   ]
  },
  {
   "attachments": {},
   "cell_type": "markdown",
   "metadata": {},
   "source": [
    "**操作：**\n",
    "<br>按住/按下`[<]`会呼出带有坐标系对齐选项的轮盘，移动`[鼠标]`可点亮选项，松开`[<]`/按下`[LMB]`以使高亮选项生效"
   ]
  },
  {
   "attachments": {},
   "cell_type": "markdown",
   "metadata": {},
   "source": [
    "**Tip：**\n",
    "<br>期间按下`[RMB]`可退出轮盘"
   ]
  },
  {
   "attachments": {},
   "cell_type": "markdown",
   "metadata": {},
   "source": [
    "### 拖拽、旋转、缩放<br>Grab, Rotate, Scale"
   ]
  },
  {
   "attachments": {},
   "cell_type": "markdown",
   "metadata": {},
   "source": [
    "#### 方法一：使用光标"
   ]
  },
  {
   "attachments": {},
   "cell_type": "markdown",
   "metadata": {},
   "source": [
    "**操作：**\n",
    "1. 模式\n",
    "- 移动模式：按住`[Shift]`再按下`[Space]`会呼出带有基本工具选项的弹窗，选择移动工具，当前的轴心点处会出现箭头坐标系\n",
    "- 旋转模式：按住`[Shift]`再按下`[Space]`会呼出带有基本工具选项的弹窗，选择旋转工具，当前的轴心点处会出现圆弧线框组\n",
    "- 缩放模式：按住`[Shift]`再按下`[Space]`会呼出带有基本工具选项的弹窗，选择缩放工具，当前的轴心点处会出现方头坐标系\n",
    "2. 方式\n",
    "- 沿X/Y/Z轴移动：在X/Y/Z轴处按住`[LMB]`并拖拽`[鼠标]`（沿YZ/XZ/XY面移动：在YZ/XZ/XY面的小方块处按住`[LMB]`并拖拽`[鼠标]`）\n",
    "- 绕X/Y/Z轴旋转：在X/Y/Z框处按住`[LMB]`并拖拽`[鼠标]`（绕YZ/XZ/XY面旋转：在YZ/XZ/XY面的小方块处按住`[LMB]`并拖拽`[鼠标]`）\n",
    "- 沿X/Y/Z轴缩放：在X/Y/Z轴处按住`[LMB]`并拖拽`[鼠标]`（沿YZ/XZ/XY面缩放：在YZ/XZ/XY面的小方块处按住`[LMB]`并拖拽`[鼠标]`）\n",
    "3. 控制\n",
    "<br>变换期间按下`[NumberPad 数字键]`能够指定变化量（按下`[BackSpace]`可撤回编辑，按下`[RMB]`可取消编辑），最终松开`[鼠标]`以应用当前变换结果"
   ]
  },
  {
   "attachments": {},
   "cell_type": "markdown",
   "metadata": {},
   "source": [
    "#### 方法二：使用快捷键"
   ]
  },
  {
   "attachments": {},
   "cell_type": "markdown",
   "metadata": {},
   "source": [
    "**操作：**\n",
    "1. 模式\n",
    "- 移动模式：按下`[G]`（坐标归零：按住`[Alt]`再按下`[G]`）\n",
    "- 旋转模式：按下`[R]`（旋转归零：按住`[Alt]`再按下`[R]`）\n",
    "- 缩放模式：按下`[S]`（缩放归零：按住`[Alt]`再按下`[S]`）\n",
    "2. 方式\n",
    "- 沿X/Y/Z轴移动：按下`[X/Y/Z]`/`[MMB]`之后移动`[鼠标]`（沿YZ/XZ/XY面移动：按住`[Shift]`再按下`[X/Y/Z]`/`[MMB]`之后移动`[鼠标]`）\n",
    "- 绕X/Y/Z轴旋转：按下`[X/Y/Z]`/`[MMB]`之后移动`[鼠标]`（绕YZ/XZ/XY面旋转：按住`[Shift]`再按下`[X/Y/Z]`/`[MMB]`之后移动`[鼠标]`）\n",
    "- 沿X/Y/Z轴缩放：按下`[X/Y/Z]`/`[MMB]`之后移动`[鼠标]`（沿YZ/XZ/XY面缩放：按住`[Shift]`再按下`[X/Y/Z]`/`[MMB]`之后移动`[鼠标]`）\n",
    "3. 控制\n",
    "<br>变换期间按下`[NumberPad 数字键]`能够指定变化量（按下`[BackSpace]`可撤回编辑，按下`[RMB]`可取消编辑），最终按下`[LMB]`/`[Enter]`以应用当前变换结果"
   ]
  },
  {
   "attachments": {},
   "cell_type": "markdown",
   "metadata": {},
   "source": [
    "**Tip：**\n",
    "<br>若当前坐标轴对齐到 Global 全局，则再次按下`[X/Y/Z]`可使坐标系对齐到 Local 局部\n",
    "<br>若当前坐标轴对齐到 Local 局部 / Normal 法线 / Gimbal 万向 / View 窗口，则再次按下`[X/Y/Z]`可使坐标系对齐到 Global 全局"
   ]
  },
  {
   "attachments": {},
   "cell_type": "markdown",
   "metadata": {},
   "source": [
    "### 吸附<br>Snap"
   ]
  },
  {
   "attachments": {},
   "cell_type": "markdown",
   "metadata": {},
   "source": [
    "可以在变换期间将物体吸附到各类场景元素"
   ]
  },
  {
   "cell_type": "markdown",
   "metadata": {},
   "source": [
    "#### 开启/关闭吸附功能"
   ]
  },
  {
   "cell_type": "markdown",
   "metadata": {},
   "source": [
    "**操作：**\n",
    "<br>按住`[Shift]`再按下`[Tab]`"
   ]
  },
  {
   "attachments": {},
   "cell_type": "markdown",
   "metadata": {},
   "source": [
    "#### 切换吸附元素类型"
   ]
  },
  {
   "attachments": {},
   "cell_type": "markdown",
   "metadata": {},
   "source": [
    "**操作：**\n",
    "<br>按住`[Ctrl + Shift]`再按下`[Tab]`会呼出带有吸附元素类型选项的弹窗"
   ]
  },
  {
   "attachments": {},
   "cell_type": "markdown",
   "metadata": {},
   "source": [
    "### 侧边栏中的物体变换参数<br>"
   ]
  },
  {
   "attachments": {},
   "cell_type": "markdown",
   "metadata": {},
   "source": [
    "#### 参数位置"
   ]
  },
  {
   "attachments": {},
   "cell_type": "markdown",
   "metadata": {},
   "source": [
    "**操作：**\n",
    "<br>呼出侧边栏，通过“Item 物体 -> Transform 变换”即可找到位于 Location 位置 / Rotation 旋转 / Scale 缩放 条目下的X/Y/Z轴参数"
   ]
  },
  {
   "cell_type": "markdown",
   "metadata": {},
   "source": [
    "#### 参数修改"
   ]
  },
  {
   "attachments": {},
   "cell_type": "markdown",
   "metadata": {},
   "source": [
    "**操作：**\n",
    "<br>将光标移至参数处会变为双向小箭头。（按住`[Alt]`之后）按住`[LMB]`并左右拖拽`[鼠标]`以更改参数，使得当前选中的（多个）物体做出相应变换"
   ]
  },
  {
   "attachments": {},
   "cell_type": "markdown",
   "metadata": {},
   "source": [
    "**Tip：**\n",
    "<br>不按住`[Alt]`就无法同时变换多物体的原因参见主被动选择关系"
   ]
  },
  {
   "attachments": {},
   "cell_type": "markdown",
   "metadata": {},
   "source": [
    "<br>\n",
    "<div align = 'center'>\n",
    "\n",
    "## Step6. 应用\n",
    "![](https://img-blog.csdnimg.cn/img_convert/a4a4490f423a6473a5ed591d4116fb25.jpeg)\n",
    "<br>全部归零是通过“`[Ctrl + A]` -> All Transforms全部变换”的操作实现的\n",
    "\n",
    "</div>"
   ]
  },
  {
   "attachments": {},
   "cell_type": "markdown",
   "metadata": {},
   "source": [
    "### 应用变换值"
   ]
  },
  {
   "attachments": {},
   "cell_type": "markdown",
   "metadata": {},
   "source": [
    "**操作：**\n",
    "<br>按住`[Ctrl]`再按下`[A]`会呼出带有应用变换值选项的弹窗，选择不同变换值选项会使当前选中的物体相应变换值被设为默认值"
   ]
  },
  {
   "attachments": {},
   "cell_type": "markdown",
   "metadata": {},
   "source": [
    "**Tip：**\n",
    "<br>所谓全部变换就是对当前选择对象的移动旋转缩放状态进行全部应用，而这项操作的进行会将对选择对象所做的全部变换操作的增量归零（参见[blender2.8应用全部变换的同时不影响原点](https://www.bilibili.com/video/av66462106/)）"
   ]
  },
  {
   "attachments": {},
   "cell_type": "markdown",
   "metadata": {},
   "source": [
    "<br>\n",
    "<div align = 'center'>\n",
    "\n",
    "## Step7. 复制\n",
    "![](https://img-blog.csdnimg.cn/img_convert/cb4029046b173b15f1067bf77d83916b.jpeg)\n",
    "<br>物体复制操作分为浅关联复制操作与深关联复制操作两种类型，而此处使用的是浅关联复制操作\n",
    "\n",
    "</div>"
   ]
  },
  {
   "attachments": {},
   "cell_type": "markdown",
   "metadata": {},
   "source": [
    "### 浅关联复制<br>"
   ]
  },
  {
   "cell_type": "markdown",
   "metadata": {},
   "source": [
    "副本与原始物体仅共享材质、纹理和函数曲线数据块"
   ]
  },
  {
   "attachments": {},
   "cell_type": "markdown",
   "metadata": {},
   "source": [
    "**操作：**\n",
    "<br>按住`[Shift]`再按下`[D]`"
   ]
  },
  {
   "cell_type": "markdown",
   "metadata": {},
   "source": [
    "**Tip：**\n",
    "<br>之后会在与原物体相同的位置创建副本并自动进入移动模式"
   ]
  },
  {
   "attachments": {},
   "cell_type": "markdown",
   "metadata": {},
   "source": [
    "### 深关联复制<br>"
   ]
  },
  {
   "attachments": {},
   "cell_type": "markdown",
   "metadata": {},
   "source": [
    "副本与原始物体共享除变换属性以外的所有数据块"
   ]
  },
  {
   "cell_type": "markdown",
   "metadata": {},
   "source": [
    "**操作：**\n",
    "<br>按住`[Alt]`再按下`[D]`"
   ]
  },
  {
   "cell_type": "markdown",
   "metadata": {},
   "source": [
    "**Tip：**\n",
    "<br>之后会在与原物体相同的位置创建副本并自动进入移动模式"
   ]
  },
  {
   "attachments": {},
   "cell_type": "markdown",
   "metadata": {},
   "source": [
    "<br>\n",
    "<div align = 'center'>\n",
    "\n",
    "## Step8. 交互模式\n",
    "![](https://img-blog.csdnimg.cn/img_convert/cb4029046b173b15f1067bf77d83916b.jpeg)\n",
    "<br>\n",
    "\n",
    "</div>"
   ]
  },
  {
   "attachments": {},
   "cell_type": "markdown",
   "metadata": {},
   "source": [
    "### 选择交互模式<br>"
   ]
  },
  {
   "attachments": {},
   "cell_type": "markdown",
   "metadata": {},
   "source": [
    "**操作：**\n",
    "<br>按住/按下`[Ctrl]`再按住/按下`[Tab]`会呼出带有物体交互模式选项的轮盘，移动`[鼠标]`可点亮选项，松开`[Tab]`/按下`[LMB]`以使高亮选项生效"
   ]
  },
  {
   "attachments": {},
   "cell_type": "markdown",
   "metadata": {},
   "source": [
    "**Tip：**\n",
    "<br>期间按下`[RMB]`可退出轮盘"
   ]
  },
  {
   "attachments": {},
   "cell_type": "markdown",
   "metadata": {},
   "source": [
    "### 切换交互模式<br>"
   ]
  },
  {
   "attachments": {},
   "cell_type": "markdown",
   "metadata": {},
   "source": [
    "#### 编辑模式"
   ]
  },
  {
   "attachments": {},
   "cell_type": "markdown",
   "metadata": {},
   "source": [
    "**操作：**\n",
    "<br>按下`[Tab]`"
   ]
  },
  {
   "attachments": {},
   "cell_type": "markdown",
   "metadata": {},
   "source": [
    "**Tip：**\n",
    "<br>会在当前模式和 Object Mode 物体模式 之间切换"
   ]
  },
  {
   "cell_type": "markdown",
   "metadata": {},
   "source": [
    "#### 非编辑模式"
   ]
  },
  {
   "attachments": {},
   "cell_type": "markdown",
   "metadata": {},
   "source": [
    "**操作：**\n",
    "<br>按下`[Tab]`"
   ]
  },
  {
   "attachments": {},
   "cell_type": "markdown",
   "metadata": {},
   "source": [
    "**Tip：**\n",
    "<br>会在当前模式和 Edit Mode 编辑模式 之间切换"
   ]
  },
  {
   "attachments": {},
   "cell_type": "markdown",
   "metadata": {},
   "source": [
    "<br>\n",
    "<div align = 'center'>\n",
    "\n",
    "## Step9. 选择\n",
    "![](https://img-blog.csdnimg.cn/img_convert/9fa1e95af7f33f7c2a4b38c9827cd4e9.jpeg)\n",
    "<br>若编辑模式默认使用点选择模式，则欲切换至边/面选择模式需先按下`[2]`/`[3]`\n",
    "\n",
    "</div>"
   ]
  },
  {
   "attachments": {},
   "cell_type": "markdown",
   "metadata": {},
   "source": [
    "### 选择模式<br>"
   ]
  },
  {
   "cell_type": "markdown",
   "metadata": {},
   "source": [
    "#### 点选择模式"
   ]
  },
  {
   "attachments": {},
   "cell_type": "markdown",
   "metadata": {},
   "source": [
    "**操作：**\n",
    "<br>按下`[1]`"
   ]
  },
  {
   "attachments": {},
   "cell_type": "markdown",
   "metadata": {},
   "source": [
    "**Tip：**\n",
    "<br>选中的点显示为橙色，未选中的点显示为黑色，当前激活/最后选择的点显示为白色"
   ]
  },
  {
   "attachments": {},
   "cell_type": "markdown",
   "metadata": {},
   "source": [
    "#### 边选择模式"
   ]
  },
  {
   "cell_type": "markdown",
   "metadata": {},
   "source": [
    "**操作：**\n",
    "<br>按下`[2]`"
   ]
  },
  {
   "attachments": {},
   "cell_type": "markdown",
   "metadata": {},
   "source": [
    "**Tip：**\n",
    "<br>选中的边显示为橙色，未选中的边显示为黑色，当前激活/最后选择的边显示为白色"
   ]
  },
  {
   "attachments": {},
   "cell_type": "markdown",
   "metadata": {},
   "source": [
    "#### 面选择模式"
   ]
  },
  {
   "attachments": {},
   "cell_type": "markdown",
   "metadata": {},
   "source": [
    "**操作：**\n",
    "<br>按下`[3]`"
   ]
  },
  {
   "attachments": {},
   "cell_type": "markdown",
   "metadata": {},
   "source": [
    "**Tip：**\n",
    "<br>选中的面显示为橙色，未选中的面显示为黑色，当前激活/最后选择的面显示为白色"
   ]
  },
  {
   "attachments": {},
   "cell_type": "markdown",
   "metadata": {},
   "source": [
    "### 选择工具"
   ]
  },
  {
   "attachments": {},
   "cell_type": "markdown",
   "metadata": {},
   "source": [
    "#### 方法一：使用光标"
   ]
  },
  {
   "attachments": {},
   "cell_type": "markdown",
   "metadata": {},
   "source": [
    "**操作：**\n",
    "1. 工具\n",
    "- 框选工具：按下`[W]`并重复直至切换至框选工具\n",
    "- 刷选工具：按下`[W]`并重复直至切换至刷选工具\n",
    "- 套选工具：按下`[W]`并重复直至切换至套选工具\n",
    "- 激活工具：按下`[W]`并重复直至切换至激活工具\n",
    "2. 方式\n",
    "- 框选：按住`[LMB]`并拖拽`[鼠标]`以绘制出一个矩形的选择区域\n",
    "- 刷选：按住`[LMB]`并拖拽`[鼠标]`即可选中圆刷途经的所有物体\n",
    "- 套选：按住`[LMB]`并拖拽`[鼠标]`以绘制出一个任意的选择区域\n",
    "- 激活：点击`[LMB]`即可选中光标位置对应的物体\n",
    "3. 控制\n",
    "- 框选：期间按下`[ESC]`可取消选择，最终松开`[LMB]`以确认选中绘制区域内部的物体\n",
    "- 刷选：期间按下`[ESC]`可退出选择，最终松开`[LMB]`以停止选中圆刷之后经过的物体\n",
    "- 套选：期间按下`[ESC]`可取消选择，最终松开`[LMB]`以确认选中绘制区域内部的物体"
   ]
  },
  {
   "attachments": {},
   "cell_type": "markdown",
   "metadata": {},
   "source": [
    "**Tip：**\n",
    "<br>框选期间按下`[RMB]`亦可取消选择"
   ]
  },
  {
   "attachments": {},
   "cell_type": "markdown",
   "metadata": {},
   "source": [
    "#### 方法二：使用快捷键"
   ]
  },
  {
   "attachments": {},
   "cell_type": "markdown",
   "metadata": {},
   "source": [
    "**操作：**\n",
    "1. 工具\n",
    "- 框选工具：按下`[B]`\n",
    "- 刷选工具：按下`[C]`\n",
    "- 套选工具：按住`[CTRL]`直至有新的按键输入\n",
    "- 激活工具：按下`[W]`\n",
    "2. 方式\n",
    "- 框选：按住`[LMB]`并拖拽`[鼠标]`以绘制出一个矩形的加选区域；按住`[MMB]`并拖拽`[鼠标]`以绘制出一个矩形的减选区域\n",
    "- 刷选：按住`[LMB]`并拖拽`[鼠标]`即可加选圆刷途经的所有物体；按住`[MMB]`并拖拽`[鼠标]`即可减选圆刷途经的所有物体\n",
    "- 套选：按住`[RMB]`并拖拽`[鼠标]`以绘制出一个任意的加选区域；按住`[MMB]`并拖拽`[鼠标]`以绘制出一个任意的减选区域\n",
    "- 激活：点击`[LMB]`即可选中光标位置对应的物体\n",
    "3. 控制\n",
    "- 框选：期间按下`[ESC]`可取消选择，最终松开`[LMB]`以确认加选/减选绘制区域内部的物体\n",
    "- 刷选：期间按下`[ESC]`可退出选择，最终松开`[LMB]`以停止加选/减选圆刷之后经过的物体；滚动`[MMB]`可调节圆刷直径\n",
    "- 套选：期间按下`[ESC]`可取消选择，最终松开`[RMB]`以确认加选/减选绘制区域内部的物体"
   ]
  },
  {
   "attachments": {},
   "cell_type": "markdown",
   "metadata": {},
   "source": [
    "**Tip：**\n",
    "<br>快捷套选在按下`[RMB]`/`[MMB]`时即可松开`[CTRL]`，否则无法通过按下`[ESC]`取消选择"
   ]
  },
  {
   "attachments": {},
   "cell_type": "markdown",
   "metadata": {},
   "source": [
    "### 选择方法"
   ]
  },
  {
   "attachments": {},
   "cell_type": "markdown",
   "metadata": {},
   "source": [
    "**操作：**\n",
    "- 加选：按住`[Shift]`并对加选目标使用工具\n",
    "- 减选：按住`[Ctrl]`并对减选目标使用工具/对减选目标按下`[MMB]`\n",
    "- 全选：按下`[A]`\n",
    "- 反选：按住`[Ctrl]`再按下`[I]`\n",
    "- 组选：按住`[Shift]`再按下`[G]`会呼出带有选项的弹窗\n",
    "- 联选：按住`[Shift]`再按下`[L]`会呼出带有选项的弹窗\n"
   ]
  },
  {
   "attachments": {},
   "cell_type": "markdown",
   "metadata": {},
   "source": [
    "**Tip：**\n",
    "<br>并非每个选择工具都支持这些方法，例如：\n",
    "<br>快捷套选的减选是在原操作的基础上按住`[Shift]`来绘制出减选区域的"
   ]
  }
 ],
 "metadata": {
  "kernelspec": {
   "display_name": "base",
   "language": "python",
   "name": "python3"
  },
  "language_info": {
   "name": "python",
   "version": "3.7.0 (default, Jun 28 2018, 08:04:48) [MSC v.1912 64 bit (AMD64)]"
  },
  "orig_nbformat": 4,
  "vscode": {
   "interpreter": {
    "hash": "3af1b6f78fba78245cf63ab96d33e9b07e8f9db7221177dfc11d053b30bdd569"
   }
  }
 },
 "nbformat": 4,
 "nbformat_minor": 2
}
